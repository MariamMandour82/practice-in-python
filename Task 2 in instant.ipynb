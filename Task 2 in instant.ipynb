{
 "cells": [
  {
   "cell_type": "code",
   "execution_count": 4,
   "id": "7233120d",
   "metadata": {},
   "outputs": [
    {
     "name": "stdout",
     "output_type": "stream",
     "text": [
      "Twinkle, Twinkle, little star,\n",
      "\tHow I wonder what you are!,\n",
      "\t\tUp above the world so high,\n",
      "\t\tLike a diamond in the sky.\n",
      "Twinkle, twinkle, little star,\n",
      "\tHow I wonder what you are\n"
     ]
    }
   ],
   "source": [
    "print(\"Twinkle, Twinkle, little star,\\n\\tHow I wonder what you are!,\\n\\t\\tUp above the world so high,\\n\\t\\tLike a diamond in the sky.\\nTwinkle, twinkle, little star,\\n\\tHow I wonder what you are\")"
   ]
  },
  {
   "cell_type": "code",
   "execution_count": 5,
   "id": "66c52dd3",
   "metadata": {},
   "outputs": [
    {
     "name": "stdout",
     "output_type": "stream",
     "text": [
      "3.11.5 | packaged by Anaconda, Inc. | (main, Sep 11 2023, 13:26:23) [MSC v.1916 64 bit (AMD64)]\n"
     ]
    }
   ],
   "source": [
    "import sys\n",
    "print(sys.version)"
   ]
  },
  {
   "cell_type": "code",
   "execution_count": 7,
   "id": "a403fb29",
   "metadata": {},
   "outputs": [
    {
     "name": "stdout",
     "output_type": "stream",
     "text": [
      "2023-11-05 00:51:28.830109\n"
     ]
    }
   ],
   "source": [
    "\n",
    "import datetime\n",
    "print(datetime.datetime.now())"
   ]
  },
  {
   "cell_type": "code",
   "execution_count": 8,
   "id": "33345945",
   "metadata": {},
   "outputs": [
    {
     "name": "stdout",
     "output_type": "stream",
     "text": [
      "Enter radious :1.1\n",
      "3.8013271108436504\n"
     ]
    }
   ],
   "source": [
    "import math \n",
    "r= float(input(\"Enter radious :\"))\n",
    "area= math.pi *r**2\n",
    "print(area)"
   ]
  },
  {
   "cell_type": "code",
   "execution_count": 11,
   "id": "44eb7d10",
   "metadata": {},
   "outputs": [
    {
     "name": "stdout",
     "output_type": "stream",
     "text": [
      "Enter first name :Mariam\n",
      "Enter last name :Mohammed\n",
      "Mohammed  Mariam\n"
     ]
    }
   ],
   "source": [
    "first_name=input(\"Enter first name :\")\n",
    "last_name=input(\"Enter last name :\")\n",
    "print(last_name,\"\",first_name)\n"
   ]
  },
  {
   "cell_type": "code",
   "execution_count": 14,
   "id": "6008041d",
   "metadata": {},
   "outputs": [
    {
     "name": "stdout",
     "output_type": "stream",
     "text": [
      "Enter a seq :3, 5, 7, 23\n",
      "list : ['3', ' 5', ' 7', ' 23']\n",
      "tuple : ('3', ' 5', ' 7', ' 23')\n"
     ]
    }
   ],
   "source": [
    "inp=input(\"Enter a seq :\")\n",
    "number = inp.split(',')\n",
    "print(\"list :\",list(number))\n",
    "print(\"tuple :\",tuple(number))"
   ]
  },
  {
   "cell_type": "code",
   "execution_count": 17,
   "id": "2abbbc25",
   "metadata": {},
   "outputs": [
    {
     "name": "stdout",
     "output_type": "stream",
     "text": [
      "file name :abc.java\n",
      "java\n"
     ]
    }
   ],
   "source": [
    "filename=input(\"file name :\")\n",
    "x=\".\"\n",
    "if x in filename :\n",
    "    parts = filename.split('.')\n",
    "    print(parts[1])"
   ]
  },
  {
   "cell_type": "code",
   "execution_count": 18,
   "id": "974e8d82",
   "metadata": {},
   "outputs": [
    {
     "name": "stdout",
     "output_type": "stream",
     "text": [
      "first color : Red\n",
      "second color : Black\n"
     ]
    }
   ],
   "source": [
    "color_list = [\"Red\",\"Green\",\"White\" ,\"Black\"]\n",
    "print (\"first color :\",color_list[0])\n",
    "print (\"second color :\",color_list[-1])"
   ]
  },
  {
   "cell_type": "code",
   "execution_count": 22,
   "id": "419f9922",
   "metadata": {},
   "outputs": [
    {
     "name": "stdout",
     "output_type": "stream",
     "text": [
      "The examination will start from : 11 / 12 / 2014\n"
     ]
    }
   ],
   "source": [
    "exam_st_date = (11, 12, 2014)\n",
    "print(\"The examination will start from : %i / %i / %i\" % exam_st_date)\n"
   ]
  },
  {
   "cell_type": "code",
   "execution_count": 31,
   "id": "5d6a56f4",
   "metadata": {},
   "outputs": [
    {
     "name": "stdout",
     "output_type": "stream",
     "text": [
      "5\n",
      "615\n"
     ]
    }
   ],
   "source": [
    "n=int(input())\n",
    "nn=str(n)+str(n)\n",
    "nn=int(nn)\n",
    "nnn=str(n)+str(n)+str(n)\n",
    "nnn=int(nnn)\n",
    "\n",
    "print(n+nn+nnn)"
   ]
  },
  {
   "cell_type": "code",
   "execution_count": 41,
   "id": "fc25752d",
   "metadata": {},
   "outputs": [
    {
     "name": "stdout",
     "output_type": "stream",
     "text": [
      "   November 2023\n",
      "Mo Tu We Th Fr Sa Su\n",
      "       1  2  3  4  5\n",
      " 6  7  8  9 10 11 12\n",
      "13 14 15 16 17 18 19\n",
      "20 21 22 23 24 25 26\n",
      "27 28 29 30\n",
      "\n"
     ]
    }
   ],
   "source": [
    "import calendar\n",
    "year=2023\n",
    "mo=11\n",
    "print(calendar.month(year,mo))\n"
   ]
  },
  {
   "cell_type": "code",
   "execution_count": 42,
   "id": "df7181c7",
   "metadata": {},
   "outputs": [
    {
     "name": "stdout",
     "output_type": "stream",
     "text": [
      "a string that you don't have to escape\n",
      "This\n",
      "is a ....... multi-line\n",
      "heredoc string --------> example\n"
     ]
    }
   ],
   "source": [
    "print(\"a string that you don't have to escape\\nThis\\nis a ....... multi-line\\nheredoc string --------> example\")"
   ]
  },
  {
   "cell_type": "code",
   "execution_count": 47,
   "id": "68950f42",
   "metadata": {},
   "outputs": [
    {
     "name": "stdout",
     "output_type": "stream",
     "text": [
      "9\n"
     ]
    }
   ],
   "source": [
    "from datetime import date\n",
    "date1 = date(2014, 7, 2)\n",
    "date2 = date(2014, 7, 11)\n",
    "cal=(date2 - date1).days\n",
    "print(cal)\n"
   ]
  },
  {
   "cell_type": "code",
   "execution_count": 49,
   "id": "f48a5fac",
   "metadata": {},
   "outputs": [
    {
     "name": "stdout",
     "output_type": "stream",
     "text": [
      "904.7786842338603\n"
     ]
    }
   ],
   "source": [
    "import math\n",
    "vol=(4/3) * math.pi * 6**3\n",
    "print(vol)"
   ]
  },
  {
   "cell_type": "code",
   "execution_count": 51,
   "id": "d0fb9103",
   "metadata": {},
   "outputs": [
    {
     "name": "stdout",
     "output_type": "stream",
     "text": [
      "18\n",
      "2\n"
     ]
    }
   ],
   "source": [
    "n= int(input())\n",
    "if n <= 17 :\n",
    "    print(17-n)\n",
    "else :\n",
    "    print(2*(n-17))"
   ]
  },
  {
   "cell_type": "code",
   "execution_count": 52,
   "id": "a3ee8229",
   "metadata": {},
   "outputs": [
    {
     "name": "stdout",
     "output_type": "stream",
     "text": [
      "5\n",
      "5\n",
      "5\n",
      "45\n"
     ]
    }
   ],
   "source": [
    "n1= int(input())\n",
    "n2= int(input())\n",
    "n3= int(input())\n",
    "if n1 != n2 :\n",
    "    print(n1+n2+n3)\n",
    "else :\n",
    "    print(3*(n1+n2+n3))"
   ]
  },
  {
   "cell_type": "code",
   "execution_count": 56,
   "id": "69c0e4c4",
   "metadata": {},
   "outputs": [
    {
     "name": "stdout",
     "output_type": "stream",
     "text": [
      "Array\n",
      "IsArray\n"
     ]
    }
   ],
   "source": [
    "st=input()\n",
    "\n",
    "if st[0]==\"I\" and st[1]=='s':\n",
    "    print(st)\n",
    "else :\n",
    "    print(\"Is\"+st)"
   ]
  },
  {
   "cell_type": "code",
   "execution_count": 58,
   "id": "ffa26545",
   "metadata": {},
   "outputs": [
    {
     "name": "stdout",
     "output_type": "stream",
     "text": [
      "3\n",
      ".py\n",
      ".py.py.py\n"
     ]
    }
   ],
   "source": [
    "n=int(input())\n",
    "s=input()\n",
    "print(n*s)"
   ]
  },
  {
   "cell_type": "code",
   "execution_count": 59,
   "id": "0b3e753f",
   "metadata": {},
   "outputs": [
    {
     "name": "stdout",
     "output_type": "stream",
     "text": [
      "1\n",
      "odd\n"
     ]
    }
   ],
   "source": [
    "n=int(input())\n",
    "if n%2==0 :\n",
    "    print(\"even\")\n",
    "else :\n",
    "    print(\"odd\")"
   ]
  },
  {
   "cell_type": "code",
   "execution_count": 70,
   "id": "949eba36",
   "metadata": {},
   "outputs": [
    {
     "name": "stdout",
     "output_type": "stream",
     "text": [
      "The number 4 in the list: 4\n"
     ]
    }
   ],
   "source": [
    "st=[1, 2, 4, 4, 3, 4, 5, 4, 6]\n",
    "count = st.count(4)\n",
    "print(\"The number 4 in the list:\", count)\n"
   ]
  },
  {
   "cell_type": "code",
   "execution_count": 73,
   "id": "5a7b3a22",
   "metadata": {},
   "outputs": [
    {
     "name": "stdout",
     "output_type": "stream",
     "text": [
      "2\n",
      "km\n",
      "kmkm\n"
     ]
    }
   ],
   "source": [
    "n=int(input())\n",
    "st=input()\n",
    "if len(st)>=2 :\n",
    "    print(n*(st[0]+st[1]))\n",
    "else :\n",
    "    print(n*st)\n"
   ]
  },
  {
   "cell_type": "code",
   "execution_count": 75,
   "id": "797f375d",
   "metadata": {},
   "outputs": [
    {
     "name": "stdout",
     "output_type": "stream",
     "text": [
      "A\n",
      "true\n"
     ]
    }
   ],
   "source": [
    "s=input()\n",
    "vowel=\"aeiouAEIOU\" \n",
    "if s in vowel :\n",
    "    print(\"true\")\n",
    "else :\n",
    "    print(\"false\")"
   ]
  },
  {
   "cell_type": "code",
   "execution_count": 76,
   "id": "c929d242",
   "metadata": {},
   "outputs": [
    {
     "name": "stdout",
     "output_type": "stream",
     "text": [
      "5\n",
      "true\n"
     ]
    }
   ],
   "source": [
    "n=int(input())\n",
    "group=[1, 5, 8, 3]\n",
    "if n in group :\n",
    "    print(\"true\")\n",
    "else :\n",
    "    print(\"false\")\n",
    "    "
   ]
  },
  {
   "cell_type": "code",
   "execution_count": 80,
   "id": "25c52073",
   "metadata": {},
   "outputs": [
    {
     "name": "stdout",
     "output_type": "stream",
     "text": [
      "15122\n"
     ]
    }
   ],
   "source": [
    "list=[1, 5, 12, 2]\n",
    "result=\"\"\n",
    "for element in list:\n",
    "        result += str(element)\n",
    "print(result)"
   ]
  },
  {
   "cell_type": "code",
   "execution_count": 82,
   "id": "782b796c",
   "metadata": {},
   "outputs": [
    {
     "name": "stdout",
     "output_type": "stream",
     "text": [
      "386\n",
      "462\n",
      "418\n",
      "344\n",
      "236\n",
      "566\n",
      "978\n",
      "328\n",
      "162\n",
      "758\n",
      "918\n",
      "237\n"
     ]
    }
   ],
   "source": [
    "n = [    \n",
    "    386, 462, 47, 418, 907, 344, 236, 375, 823, 566, 597, 978, 328, 615, 953, 345, \n",
    "    399, 162, 758, 219, 918, 237, 412, 566, 826, 248, 866, 950, 626, 949, 687, 217, \n",
    "    815, 67, 104, 58, 512, 24, 892, 894, 767, 553, 81, 379, 843, 831, 445, 742, 717, \n",
    "    958,743, 527\n",
    "    ]\n",
    "for element in n :\n",
    "    if element %2 ==0:\n",
    "        print(element)\n",
    "    elif element==237 :\n",
    "        print(element)\n",
    "        break"
   ]
  },
  {
   "cell_type": "code",
   "execution_count": 83,
   "id": "2788f7ea",
   "metadata": {},
   "outputs": [
    {
     "name": "stdout",
     "output_type": "stream",
     "text": [
      "{'White', 'Black'}\n"
     ]
    }
   ],
   "source": [
    "l1 = set([\"White\", \"Black\", \"Red\"])\n",
    "l2 = set([\"Red\", \"Green\"])\n",
    "print(l1-l2)"
   ]
  },
  {
   "cell_type": "code",
   "execution_count": 84,
   "id": "a91ede14",
   "metadata": {},
   "outputs": [
    {
     "name": "stdout",
     "output_type": "stream",
     "text": [
      " the area is : 6.0\n"
     ]
    }
   ],
   "source": [
    "b=3\n",
    "h=4\n",
    "print(\" the area is :\",0.5*b*h)"
   ]
  },
  {
   "cell_type": "code",
   "execution_count": 85,
   "id": "60ccc978",
   "metadata": {},
   "outputs": [
    {
     "name": "stdout",
     "output_type": "stream",
     "text": [
      "336\n",
      "360\n",
      "24\n"
     ]
    }
   ],
   "source": [
    "import math\n",
    "n1= int(input())\n",
    "n2= int(input())\n",
    "print(math.gcd(n1,n2))"
   ]
  },
  {
   "cell_type": "code",
   "execution_count": 86,
   "id": "1f8dc33e",
   "metadata": {},
   "outputs": [
    {
     "name": "stdout",
     "output_type": "stream",
     "text": [
      "336 \n",
      "360\n",
      "5040\n"
     ]
    }
   ],
   "source": [
    "import math\n",
    "n1= int(input())\n",
    "n2= int(input())\n",
    "print(math.lcm(n1,n2))"
   ]
  },
  {
   "cell_type": "code",
   "execution_count": 87,
   "id": "d2535b5f",
   "metadata": {},
   "outputs": [
    {
     "name": "stdout",
     "output_type": "stream",
     "text": [
      "2\n",
      "3\n",
      "2\n",
      "ZERO\n"
     ]
    }
   ],
   "source": [
    "n1= int(input())\n",
    "n2= int(input())\n",
    "n3= int(input())\n",
    "if n1==n2 or n2==n3 or n1==n3 :\n",
    "    print(\"ZERO\")\n",
    "else :\n",
    "    print(n1+n2+n3)\n"
   ]
  },
  {
   "cell_type": "code",
   "execution_count": 88,
   "id": "00734eb4",
   "metadata": {},
   "outputs": [
    {
     "name": "stdout",
     "output_type": "stream",
     "text": [
      "2\n",
      "15\n",
      "20\n"
     ]
    }
   ],
   "source": [
    "n1= int(input())\n",
    "n2= int(input())\n",
    "s=n1+n2\n",
    "if s>=15 and s<=20 :\n",
    "    print(\"20\")\n",
    "else :\n",
    "    print(s)"
   ]
  },
  {
   "cell_type": "code",
   "execution_count": 90,
   "id": "d2413f1c",
   "metadata": {},
   "outputs": [
    {
     "name": "stdout",
     "output_type": "stream",
     "text": [
      "5\n",
      "5\n",
      "true\n"
     ]
    }
   ],
   "source": [
    "n1= int(input())\n",
    "n2= int(input())\n",
    "s=n1+n2\n",
    "diff=n1-n2\n",
    "if n1==n2 or s==5 or diff==5 :\n",
    "    print(\"true\")"
   ]
  },
  {
   "cell_type": "code",
   "execution_count": 91,
   "id": "daa4caa0",
   "metadata": {},
   "outputs": [
    {
     "name": "stdout",
     "output_type": "stream",
     "text": [
      "4\n",
      "3\n",
      "49\n"
     ]
    }
   ],
   "source": [
    "x= int(input())\n",
    "y= int(input())\n",
    "print( (x + y) * (x + y))"
   ]
  },
  {
   "cell_type": "code",
   "execution_count": 93,
   "id": "06f16649",
   "metadata": {},
   "outputs": [
    {
     "name": "stdout",
     "output_type": "stream",
     "text": [
      "Enter x1): 15\n",
      "Enter y1: 5\n",
      "Enter x2: 15\n",
      "Enter y2: 20\n",
      "15.0\n"
     ]
    }
   ],
   "source": [
    "x1 = float(input(\"Enter x1): \"))\n",
    "y1 = float(input(\"Enter y1: \"))\n",
    "x2 = float(input(\"Enter x2: \"))\n",
    "y2 = float(input(\"Enter y2: \"))\n",
    "distance = math.sqrt((x2 - x1)**2 + (y2 - y1)**2)\n",
    "print(distance)"
   ]
  },
  {
   "cell_type": "code",
   "execution_count": 95,
   "id": "18652122",
   "metadata": {},
   "outputs": [
    {
     "name": "stdout",
     "output_type": "stream",
     "text": [
      "False\n"
     ]
    }
   ],
   "source": [
    "\n",
    "import os.path\n",
    "print(os.path.isfile('main.txt'))"
   ]
  },
  {
   "cell_type": "code",
   "execution_count": null,
   "id": "d02854c8",
   "metadata": {},
   "outputs": [],
   "source": []
  }
 ],
 "metadata": {
  "kernelspec": {
   "display_name": "Python 3 (ipykernel)",
   "language": "python",
   "name": "python3"
  },
  "language_info": {
   "codemirror_mode": {
    "name": "ipython",
    "version": 3
   },
   "file_extension": ".py",
   "mimetype": "text/x-python",
   "name": "python",
   "nbconvert_exporter": "python",
   "pygments_lexer": "ipython3",
   "version": "3.11.5"
  }
 },
 "nbformat": 4,
 "nbformat_minor": 5
}
